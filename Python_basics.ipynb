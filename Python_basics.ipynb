{
  "nbformat": 4,
  "nbformat_minor": 0,
  "metadata": {
    "colab": {
      "private_outputs": true,
      "provenance": [],
      "toc_visible": true,
      "authorship_tag": "ABX9TyNOxuF1yJgkaGfb2Q9Lnwg7",
      "include_colab_link": true
    },
    "kernelspec": {
      "name": "python3",
      "display_name": "Python 3"
    },
    "language_info": {
      "name": "python"
    }
  },
  "cells": [
    {
      "cell_type": "markdown",
      "metadata": {
        "id": "view-in-github",
        "colab_type": "text"
      },
      "source": [
        "<a href=\"https://colab.research.google.com/github/ThorstenWeberGER/codesandbox-template-nuxt/blob/main/Python_basics.ipynb\" target=\"_parent\"><img src=\"https://colab.research.google.com/assets/colab-badge.svg\" alt=\"Open In Colab\"/></a>"
      ]
    },
    {
      "cell_type": "markdown",
      "source": [
        "# Masterschool Python Basic Excercises"
      ],
      "metadata": {
        "id": "5e6OTT_3CEu3"
      }
    },
    {
      "cell_type": "code",
      "execution_count": null,
      "metadata": {
        "id": "8t68Q2wdpWk2"
      },
      "outputs": [],
      "source": [
        "liste = ['thor','malu']\n",
        "print('thor' in liste)"
      ]
    },
    {
      "source": [
        "numbers = [1, 2, 3, 4, 5, 6, 7, 8, 9, 10]\n",
        "\n",
        "# Create a new list with \"Even\" for even numbers and \"Odd\" for odd numbers\n",
        "result = [\"Even\" if num % 2 == 0 else \"Odd\" for num in numbers]\n",
        "print(result)\n"
      ],
      "cell_type": "code",
      "metadata": {
        "id": "Li1Z4mv-Yj-b"
      },
      "execution_count": null,
      "outputs": []
    },
    {
      "cell_type": "code",
      "source": [
        "matrix = [[1, 2, 3], [4, 5, 6], [7, 8, 9]]\n",
        "\n",
        "# Flatten the matrix into a single list\n",
        "flattened = [print(row) for row in matrix for num in row] # for num in row]\n",
        "print(flattened)\n",
        "# Output: [1, 2, 3, 4, 5, 6, 7, 8, 9]"
      ],
      "metadata": {
        "id": "rPgRa_jxZL6s"
      },
      "execution_count": null,
      "outputs": []
    },
    {
      "cell_type": "markdown",
      "source": [
        "## Strings"
      ],
      "metadata": {
        "id": "LsphI9WwCI70"
      }
    },
    {
      "cell_type": "code",
      "source": [],
      "metadata": {
        "id": "hRcSzZlvYiQU"
      },
      "execution_count": null,
      "outputs": []
    },
    {
      "cell_type": "code",
      "source": [
        "text = '      Thorsten geht ins Bett'\n",
        "print(len(text))\n",
        "print(text.count(' '))\n",
        "print(text.strip(' '))\n",
        "\n",
        "austausch = {'T':'H', 'g':'A'}\n",
        "for alt, neu in austausch.items():\n",
        "  text = text.replace(alt, neu)\n",
        "\n",
        "new_text = [print(i) for i in text.split()]\n",
        "\n",
        "print(text[3:10].strip().replace('H','T'))\n",
        "\n",
        "print(text)\n",
        "\n",
        "while text.find(' ') != -1:\n",
        "    text = text.replace(' ','_')\n",
        "\n",
        "print(text.title())\n",
        "print(text.find('geht')) # returns index where substring starts\n",
        "\n",
        "liste = text.split('_') # returns a list\n",
        "\n",
        "for wort in liste:\n",
        "  print(wort)\n",
        "\n"
      ],
      "metadata": {
        "id": "X8KPsIDiT0DM"
      },
      "execution_count": null,
      "outputs": []
    },
    {
      "cell_type": "code",
      "source": [
        "text = 'thorsten geht ins bett'\n",
        "reverse = text[::-1]\n",
        "print(reverse)"
      ],
      "metadata": {
        "id": "fkIHWRilUOjn"
      },
      "execution_count": null,
      "outputs": []
    },
    {
      "cell_type": "markdown",
      "source": [
        "**Code Challenge · Dollar to Yuan**\n",
        "Define a function called convert_to_yuan that accepts one argument: a string representing a money amount in dollars, formatted like \"1542$\"."
      ],
      "metadata": {
        "id": "ZFVWohSA0kVC"
      }
    },
    {
      "cell_type": "code",
      "source": [
        "def convert_to_yuan(dollar):\n",
        "     #Your code here\n",
        "     return 7.15 * int(dollar[:-1])\n",
        "\n",
        "print(convert_to_yuan('10$'))"
      ],
      "metadata": {
        "id": "WpQY5Md60NOV"
      },
      "execution_count": null,
      "outputs": []
    },
    {
      "cell_type": "markdown",
      "source": [
        "**Code Challenge · Domain extractor**\n",
        "Write a function named extract_domain that takes a single argument: a string representing a dot-com URL like \"https://www.example.com\".\n",
        "The function should return only the domain name, in this case, \"example\".\n",
        "Assume the provided URL will always start with \"https://www.\" and will always contain a domain name followed by \".com\".\n",
        "You don't need to handle input or call the function at all."
      ],
      "metadata": {
        "id": "9LevzagX6-iq"
      }
    },
    {
      "cell_type": "code",
      "source": [
        "def extract_domain(dot_com):\n",
        "     #Your code here\n",
        "     start = len('https://www.')\n",
        "     end = len('.com') * -1\n",
        "\n",
        "     return dot_com[start : end]\n",
        "\n",
        "print(extract_domain('https://www.google.com'))\n",
        "\n",
        "# Note: why does this work? Why does it start with the g of google although i just evaluates the length of 'http://'. And same for '.com'"
      ],
      "metadata": {
        "id": "4Bs185ri6--P"
      },
      "execution_count": null,
      "outputs": []
    },
    {
      "cell_type": "markdown",
      "source": [
        "**Dollar to Yuan**\n",
        "Define a function called convert_to_yuan that accepts one argument: a string representing a money amount in dollars, formatted like \"1542$\".\n",
        "The function should return the corresponding amount in Yuan as an int.\n",
        "For this exercise, use a conversion rate of 1 Dollar = 7.15 Yuan.\n",
        "There's no need to handle user input or invoke the function.\n",
        "Hint: To be able to perform arithmetic operations, you need to use the int function on the string that holds the amount of money."
      ],
      "metadata": {
        "id": "7F4QBn5M7rYT"
      }
    },
    {
      "cell_type": "code",
      "source": [
        "def dollar_to_yuan(dollar):\n",
        "    return int(dollar[:-1]) * 7.15\n",
        "\n",
        "print(dollar_to_yuan('10$'))"
      ],
      "metadata": {
        "id": "f84FhnuR7up-"
      },
      "execution_count": null,
      "outputs": []
    },
    {
      "cell_type": "markdown",
      "source": [
        "### String methods\n",
        "\n",
        "- formatting: .upper(), .lower(), .capitalize(), .title()\n",
        "- finding/counting: .find(), .count()\n",
        "- cleaning: .strip(['char']) cleans per default of chars left and right\n",
        "- replace: .replace('search_char','replace_char')\n",
        "\n",
        "There are way more:\n",
        "https://www.w3schools.com/python/python_ref_string.asp"
      ],
      "metadata": {
        "id": "NqFR6r4n00X_"
      }
    },
    {
      "cell_type": "code",
      "source": [
        "text = ' _thorsten loves malvika...'\n",
        "\n",
        "print(text.strip().strip('_').replace('.', '!').title())"
      ],
      "metadata": {
        "id": "xXjEYo6C1eHs"
      },
      "execution_count": null,
      "outputs": []
    },
    {
      "cell_type": "code",
      "source": [
        "text = 'der wahl des hades geht zu Ende'\n",
        "\n",
        "print(text.find('des')) # returns first occurence of string\n",
        "\n",
        "print(text.count('e')) # returns amount of chars in string\n",
        "\n",
        "print(text.replace('E','G')) # note: replace is case sensitive"
      ],
      "metadata": {
        "id": "9_xcVrCq1yuv"
      },
      "execution_count": null,
      "outputs": []
    },
    {
      "cell_type": "markdown",
      "source": [
        "### The IN keyword\n",
        "\n",
        "Helps to identify if a char or complete string is within another list of chars, meaning within a string. The IN can be used on strings but also on lists.\n",
        "\n",
        "You can do comparison with IN and you can iterate with IN."
      ],
      "metadata": {
        "id": "EIQKVmDh9jhj"
      }
    },
    {
      "cell_type": "code",
      "source": [
        "# comparisons\n",
        "if \"T\" in \"Titanic\":\n",
        "    print(\"Yes, 'T' is in 'Titanic'\")\n",
        "else:\n",
        "    print(\"No, 'T' is not in 'Titanic'\")\n",
        "\n",
        "print('I' in 'Titanic') # works case sensitive\n",
        "\n",
        "print('I' not in 'Titanic') # NOT operator\n",
        "\n",
        "# checking for substrings\n",
        "if \"nic\" in \"Titanic\":\n",
        "    print(\"Yes, 'nic' is in 'Titanic'\")\n",
        "else:\n",
        "    print(\"No, 'nic' is not in 'Titanic'\")\n",
        "\n",
        "# iterate\n",
        "for char in 'Titanic':\n",
        "  print(char)\n"
      ],
      "metadata": {
        "id": "WR3bxrTC93u2"
      },
      "execution_count": null,
      "outputs": []
    },
    {
      "cell_type": "markdown",
      "source": [
        "### Excercises on strings"
      ],
      "metadata": {
        "id": "l-rUnMbGUjh2"
      }
    },
    {
      "cell_type": "markdown",
      "source": [
        "**Case Insensitive Comparison**\n",
        "Comparing two strings in a case-insensitive manner is a very common practice when writing user interfaces. For example, usually, we don't mind if a user enters \"Yes\" or \"yes\" or \"YES\" — we can treat all those situations the same.\n",
        "Write a function named are_strings_equal that accepts two strings as its arguments.\n",
        "If the strings are equal in a case-insensitive manner, the function should print “Equal”. Otherwise, it should print \"Not equal\"."
      ],
      "metadata": {
        "id": "wt8nBsT13lia"
      }
    },
    {
      "cell_type": "code",
      "source": [
        "# your code here\n",
        "def get_input():\n",
        "    return input('Please enter your data: ')\n",
        "\n",
        "# compares two strings on equality case insensitive\n",
        "def are_strings_equal(text1, text2):\n",
        "    if text1.lower() == text2.lower():\n",
        "        print('Equal')\n",
        "    else: print('Not equal')\n",
        "\n",
        "# call your function\n",
        "are_strings_equal(get_input(), get_input())"
      ],
      "metadata": {
        "id": "pARgRO8p3jPs"
      },
      "execution_count": null,
      "outputs": []
    },
    {
      "cell_type": "markdown",
      "source": [
        "**Find and Remove Letters**\n",
        "Define a function named remove_first_letter_occurrences that will accept a single string as its argument.\n",
        "The function should identify the first character in the string, and then remove all of its occurrences from the string (with the first string character included), and return the new string."
      ],
      "metadata": {
        "id": "mtv45dYy3zqm"
      }
    },
    {
      "cell_type": "code",
      "source": [
        "# your code here\n",
        "def remove_first_letter_occurences(text):\n",
        "    return text.replace(text[0], '')\n",
        "\n",
        "print(remove_first_letter_occurences('hahahhhhhhaaaaaa'))"
      ],
      "metadata": {
        "id": "vIHRy1LF32I3"
      },
      "execution_count": null,
      "outputs": []
    },
    {
      "cell_type": "markdown",
      "source": [
        "**Counting Words**\n",
        "Write a function count_words that takes a sentence as an argument and returns the number of words in it, based on the count of spaces.\n",
        "Assume the sentence doesn't contain any punctuation.\n",
        "Here is a template to get you started:"
      ],
      "metadata": {
        "id": "PdvkjQje4GZO"
      }
    },
    {
      "cell_type": "code",
      "source": [
        "def count_words(sentence):\n",
        "# your code here\n",
        "    return len(sentence.split())\n",
        "\n",
        "print(count_words('I will give you FUCK OFF and more.'))"
      ],
      "metadata": {
        "id": "DqYd5jZ24JsQ"
      },
      "execution_count": null,
      "outputs": []
    },
    {
      "cell_type": "markdown",
      "source": [
        "> **Strings are immutable**\n",
        "\n",
        "\n",
        "\n",
        "In Python, strings are immutable, which means that once a string is created, it cannot be changed. When you use a method to manipulate a string, like converting to upper case, *Python doesn't modify the original string. Instead, it returns a new string.* This new string can then be assigned to a new variable or printed."
      ],
      "metadata": {
        "id": "f4wjD_kn4nEF"
      }
    },
    {
      "cell_type": "code",
      "source": [
        "text = \"Hello!\"\n",
        "print(text.upper())\n",
        "print(text)\n",
        "\n",
        "# you need to reassign or assign to another variable\n",
        "\n",
        "text = text.upper()\n",
        "print(text)\n"
      ],
      "metadata": {
        "id": "GWQx5S_X4oEs"
      },
      "execution_count": null,
      "outputs": []
    },
    {
      "cell_type": "markdown",
      "source": [
        "**A Buggy Program**\n",
        "The following program was designed to take a user-provided sentence and replace all spaces with underscores.\n",
        "However, due to a few bugs, the modified sentence isn't correctly displayed to the user.\n",
        "Try to identify the bugs and make the program work.\n"
      ],
      "metadata": {
        "id": "4TRmFqBG5G3C"
      }
    },
    {
      "cell_type": "code",
      "source": [
        "#fix the bug\n",
        "def replace_spaces(text):\n",
        "    text = text.replace(\" \", \"_\")\n",
        "    text\n",
        "sentence = input(\"Enter a sentence: \")\n",
        "print(f\"Modified sentence: {replace_spaces(sentence)}\")"
      ],
      "metadata": {
        "id": "ZVJANfAv5JY0"
      },
      "execution_count": null,
      "outputs": []
    },
    {
      "cell_type": "markdown",
      "source": [
        "**Fix the Alien Message**\n",
        "* An alien race sent humans a message, but they have different punctuation marks! We've noticed they consistently use two symbols: \"∆\" in place of our exclamation mark \"!\" and \"Ω\" instead of our question mark \"?\".\n",
        "* Let's help translate this so that everyone on Earth can understand their important message.\n",
        "* Write a function named translate_punctuation that accepts the alien message as a string.\n",
        "Return the translated message, after both replacements.\n",
        "\n",
        "\n"
      ],
      "metadata": {
        "id": "b3J2dtYy5chu"
      }
    },
    {
      "cell_type": "code",
      "source": [
        "def translate_punctuation(alien_notice):\n",
        "  return alien_notice.replace('∆', '!').replace('Ω', '?')\n",
        "\n",
        "print(translate_punctuation('Hello∆ How are youΩ'))"
      ],
      "metadata": {
        "id": "YSog-ESo5qQg"
      },
      "execution_count": null,
      "outputs": []
    },
    {
      "cell_type": "markdown",
      "source": [
        "**Case Inverter**\n",
        "Create an invert_case function that inverts a word's case.\n",
        "The function should return the word with inverted case (for example, “HEllo” will become “heLLO”).\n",
        "Look online for a method to help you."
      ],
      "metadata": {
        "id": "R7M42lME6HTq"
      }
    },
    {
      "source": [
        "def invert_case(text):\n",
        "  return text.swapcase()\n",
        "\n",
        "# Example usage\n",
        "text = \"HEllo\"\n",
        "inverted_text = invert_case(text)\n",
        "print(inverted_text)  # Output: heLLO"
      ],
      "cell_type": "code",
      "metadata": {
        "id": "zR8tITV36ezv"
      },
      "execution_count": null,
      "outputs": []
    },
    {
      "cell_type": "markdown",
      "source": [
        "**Email Username**\n",
        "Write a function called extract_username that extracts the username part from an email — user@gmail.com, and returns it."
      ],
      "metadata": {
        "id": "X2s-TRWi8g31"
      }
    },
    {
      "cell_type": "code",
      "source": [
        "def extract_username(user_email):\n",
        "  print(user_email.split('@')[0])\n",
        "  print(user_email[:user_email.find('@')])\n",
        "\n",
        "extract_username('thorsten@gmail.com')"
      ],
      "metadata": {
        "id": "hVE8hjAe8lL1"
      },
      "execution_count": null,
      "outputs": []
    },
    {
      "cell_type": "markdown",
      "source": [
        "**File Extension Remover**\n",
        "File extensions are the short sequences of characters (usually three) that follow a period (.) at the end of filenames (like “readme.txt”).  Sometimes, you might want to work with just the base names, without their extensions (like “readme”).\n",
        "Imagine you're tasked with handling a list of filenames, where some have extensions and others don’t.\n",
        "Write a function named remove_extension that takes a single parameter: a string filename, and return the file's base name, regardless of whether it originally had an extension."
      ],
      "metadata": {
        "id": "ZXn393-t-kY-"
      }
    },
    {
      "cell_type": "code",
      "source": [
        "def remove_extension(filename):\n",
        "  return filename.split('.')[0]\n",
        "\n",
        "print(remove_extension(\"readme.txt\"))\n",
        "print(remove_extension(\"Newfile\"))\n",
        "# if .split does not find it will return the original string as it is"
      ],
      "metadata": {
        "id": "CBEtemlj-mcr"
      },
      "execution_count": null,
      "outputs": []
    },
    {
      "cell_type": "markdown",
      "source": [
        "**Email checker**\n",
        "Write a function named valid_email that takes a string as an argument. The function should check the following conditions:\n",
        "Does the string contain at least one @  symbol.\n",
        "Does the string contain at least one period.\n",
        "Is the string length bigger than 5 characters.\n",
        "If all correct, print “Valid Email”. Otherwise, print “Invalid email”."
      ],
      "metadata": {
        "id": "HLuMqNyo_-kv"
      }
    },
    {
      "cell_type": "code",
      "source": [
        "# Add your function\n",
        "def valid_email(email):\n",
        "    #your code here\n",
        "    valid = False\n",
        "    if '@' in email and '.' in email and len(email) > 5: valid = True\n",
        "    if valid == False: print('Invalid email')\n",
        "    else: print('Valid Email')\n",
        "\n",
        "valid_email('thorsten@google.com')\n",
        "valid_email('@qm')\n",
        "valid_email('thorstengoogle.com')\n",
        "valid_email('thorsten@googlecom')"
      ],
      "metadata": {
        "id": "UDjDnOUw_Dy1"
      },
      "execution_count": null,
      "outputs": []
    },
    {
      "cell_type": "markdown",
      "source": [
        "**Does it contain vowels? ❗**\n",
        "Write a function has_vowels which accepts a string as a single argument. The function will check if the string contains at least one of the vowels a, e, i, u or o, If it does, it will print “Yes”. Otherwise, it will print “no”. You may assume the input will be in lowercase entirely."
      ],
      "metadata": {
        "id": "kUlR5mXIAFZI"
      }
    },
    {
      "cell_type": "code",
      "source": [
        "def has_vowels(string_1):\n",
        "    #Your code here\n",
        "    vowels = ['a','e','i','o','u']\n",
        "    for vowel in vowels:\n",
        "        if vowel in string_1:\n",
        "            return True\n",
        "    return False\n",
        "\n",
        "print(has_vowels(\"everyone\"))\n",
        "print(has_vowels(\"dry\"))"
      ],
      "metadata": {
        "id": "uGmza1_RAG73"
      },
      "execution_count": null,
      "outputs": []
    },
    {
      "cell_type": "markdown",
      "source": [
        "**Letter in the first half**\n",
        "Write a function named in_first_half that takes two arguments: a string named word and a string named char. The function should check if the letter char appears in the first half of word. If it is, the function should print \"Yes”, otherwise it should print “No”.\n",
        "You can assume the length of word is even."
      ],
      "metadata": {
        "id": "QUN4FGjOBJha"
      }
    },
    {
      "cell_type": "code",
      "source": [
        "def in_first_half(word, char):\n",
        "  if char in word[:len(word)//2]:\n",
        "    print('Yes')\n",
        "  else:\n",
        "    print('No')\n",
        "\n",
        "in_first_half('Thorsten', 't')\n",
        "in_first_half('Thorsten', 'T')\n"
      ],
      "metadata": {
        "id": "8Nmjb3V7BbHu"
      },
      "execution_count": null,
      "outputs": []
    },
    {
      "cell_type": "markdown",
      "source": [
        "## Lists"
      ],
      "metadata": {
        "id": "ssg90nHbCafP"
      }
    },
    {
      "cell_type": "markdown",
      "source": [
        "Lists are collections of values that are accessed via a single variable name. What's really cool is that these values can be of any type: numbers, strings, and even other lists!\n",
        "\n",
        "list = [item0, item1, item2, ...]. index starts with 0. similar to strings.\n",
        "\n",
        "Similarities to strings: indexing and slicing. Difference: Lists are mutable, i.e. i can delete, modify and add items."
      ],
      "metadata": {
        "id": "oGBi6FZICdTg"
      }
    },
    {
      "cell_type": "code",
      "source": [
        "# indexing\n",
        "names = ['Malvika','Thorsten','Tim','Mark','Mathias']\n",
        "print(names) # print all\n",
        "print(names[0])  # print first item\n",
        "print(names[-1]) # print last item\n",
        "\n",
        "# return total number of items\n",
        "print(len(names))\n",
        "\n",
        "# can hold multiple data types same time and nested_lists\n",
        "multi_list = [True, 'string', 10, ['nested_item1', 'nested_item2']]\n",
        "\n",
        "# slicing\n",
        "print(names[0:3], names[2:], names[:2])\n",
        "print(multi_list[3][0]) # returns first item of nested list"
      ],
      "metadata": {
        "id": "4K0r7cCuRvuY"
      },
      "execution_count": null,
      "outputs": []
    },
    {
      "cell_type": "code",
      "source": [
        "# modifying an item\n",
        "names[3] = 'Bettina'\n",
        "print(names)\n",
        "\n",
        "# sorting lists\n",
        "names.sort(reverse=True) # additionally you can add keys to sort by a given external order ignoring the list items values\n",
        "print(names)\n",
        "\n",
        "# adding an item without re-assigning\n",
        "names.append('Monika')\n",
        "print(names)\n",
        "\n",
        "# insert an item at specific position\n",
        "names.insert(2, 'Heinz')\n",
        "print(names)\n",
        "\n",
        "# removing an item\n",
        "del names[0]\n",
        "print(names)\n",
        "\n",
        "# pop removes and returns the (default = last) item of list\n",
        "print(names.pop())\n",
        "print(names)"
      ],
      "metadata": {
        "id": "mnpZtKDRb3t2"
      },
      "execution_count": null,
      "outputs": []
    },
    {
      "cell_type": "code",
      "source": [
        "\n",
        "# note you can start with an empty list, if required\n",
        "leer = []\n",
        "\n",
        "# math and logic operations\n",
        "numbers = [5,10,20]\n",
        "print(sum(numbers))\n",
        "print(max(numbers))\n",
        "print(min(numbers))\n",
        "print(5 in numbers)\n",
        "print(10 not in numbers)\n",
        "print(abs(-10))"
      ],
      "metadata": {
        "id": "pge57Mfbb6xy"
      },
      "execution_count": null,
      "outputs": []
    },
    {
      "cell_type": "markdown",
      "source": [
        "Concatenating and repeating lists can easily be done. It is like working with strings.\n",
        "\n",
        "[list1] + [list2]\n",
        "\n",
        "3 * [list1]"
      ],
      "metadata": {
        "id": "6HXgsR-sZPUw"
      }
    },
    {
      "cell_type": "code",
      "source": [
        "list1=[1,2,3]\n",
        "list2=[4,5,6]\n",
        "print(list1+list2)\n",
        "print(3*list1)"
      ],
      "metadata": {
        "id": "NNeku-IIZaA8"
      },
      "execution_count": null,
      "outputs": []
    },
    {
      "cell_type": "markdown",
      "source": [
        "### Excercises on lists"
      ],
      "metadata": {
        "id": "8rmdiGZWZiOV"
      }
    },
    {
      "cell_type": "markdown",
      "source": [
        "**Remove ends**\n",
        "Write a function, remove_ends, that accepts a list as input and returns a new list with the first and last elements removed."
      ],
      "metadata": {
        "id": "cfXT-CF4Zlu7"
      }
    },
    {
      "cell_type": "code",
      "source": [
        "#Your code here\n",
        "def remove_ends(liste):\n",
        "    return liste[1:-1]\n",
        "\n",
        "\n",
        "print(remove_ends([\"Jack\", \"Rose\", \"Cal\"]))\n",
        "print(remove_ends([12, 50, 651, 64, 23]))"
      ],
      "metadata": {
        "id": "VemjDeyTZwbB"
      },
      "execution_count": null,
      "outputs": []
    },
    {
      "cell_type": "markdown",
      "source": [
        "**Combine and Double**\n",
        "Create a function combine_and_double that takes two lists as input.\n",
        "The function combines the two lists and then duplicates all the elements.\n",
        "The function returns the new, combined and doubled list.\n",
        "\n",
        "*combine_and_double([\"Jane\", \"Iman\"], [\"Tommy\", \"Kylie\"])*"
      ],
      "metadata": {
        "id": "1yoBaAQVaLxu"
      }
    },
    {
      "cell_type": "code",
      "source": [
        "#Your code here\n",
        "def combine_and_double(list1=[], list2=[]):\n",
        "    return 2 * list1 + 2 * list2\n",
        "\n",
        "print(combine_and_double([\"Jane\", \"Iman\"], [\"Tommy\", \"Kylie\"]))"
      ],
      "metadata": {
        "id": "Vm75fDXZaU3k"
      },
      "execution_count": null,
      "outputs": []
    },
    {
      "cell_type": "markdown",
      "source": [],
      "metadata": {
        "id": "9KNuEUv8ayto"
      }
    },
    {
      "cell_type": "markdown",
      "source": [
        "**Try it Yourself**\n",
        "* Create a list called classes with these\n",
        "strings: \"First Class\", \"Second Class\", \"Third Class\", \"Crew\".\n",
        "* A mistake was made and \"Crew\" is not a class. Replace \"Crew\" with \"Steerage\" in the classes list.\n",
        "* A new class has been created named \"Luxury Class\". Add \"Luxury Class\" at the start of the classes list.\n",
        "* Print the list."
      ],
      "metadata": {
        "id": "WIPUxnEVd3xn"
      }
    },
    {
      "cell_type": "code",
      "source": [
        "#Your code here\n",
        "classes = [\"First Class\", \"Second Class\", \"Third Class\", \"Crew\"]\n",
        "classes[-1] = 'Steerage'\n",
        "classes.insert(0, 'Luxury Class')\n",
        "print(classes)"
      ],
      "metadata": {
        "id": "NazHgFIlejsl"
      },
      "execution_count": null,
      "outputs": []
    },
    {
      "cell_type": "markdown",
      "source": [
        "**Smart append**\n",
        "Write a function smart_append that takes two parameters — a list and a value (of any type).\n",
        "If the value is not already in the list, the function will append it and return the list.\n",
        "Otherwise, it will return the list untouched."
      ],
      "metadata": {
        "id": "sFrag9Mzemh4"
      }
    },
    {
      "cell_type": "code",
      "source": [
        "def smart_append(liste, value):\n",
        "    if value not in liste:\n",
        "        liste.append(value)\n",
        "    return liste\n",
        "\n",
        "print(smart_append([1, 2, 3], 3))\n",
        "print(smart_append([1, 2, 3], 4))"
      ],
      "metadata": {
        "id": "QqYVTtZKepu0"
      },
      "execution_count": null,
      "outputs": []
    },
    {
      "cell_type": "markdown",
      "source": [
        "**Head and Tail**\n",
        "* Write a function called head_tail that expects a list as a parameter.\n",
        "* The function checks if the first and last item of the list are equal.\n",
        "* If they are, they are both removed, and the updated list is returned.\n",
        "* If they are not, the list is returned unchanged."
      ],
      "metadata": {
        "id": "9UseMQx2fZ3B"
      }
    },
    {
      "cell_type": "code",
      "source": [
        "#Your code\n",
        "def head_tail(liste):\n",
        "    if liste[0] == liste[-1]:\n",
        "        del liste[-1]\n",
        "        del liste[0]\n",
        "    return liste\n",
        "\n",
        "liste = ['eins', 'zwei', 'drei']\n",
        "print(head_tail(liste))\n",
        "liste = ['eins', 'zwei', 'eins']\n",
        "print(head_tail(liste))"
      ],
      "metadata": {
        "id": "wX9X_7H9fgz6"
      },
      "execution_count": null,
      "outputs": []
    },
    {
      "cell_type": "markdown",
      "source": [
        "**Add or Remove fruit**\n",
        "Let’s create a small user interface for modifying a list of fruits.\n",
        "Write a program that asks the user to choose between addition and removal (The user will type one of the words).\n",
        "Depending on the choice, the program adds an item to or removes an item from the end of a list.\n",
        "If the user wants to add an item, the program will ask him for the name of the fruit to add.\n"
      ],
      "metadata": {
        "id": "zWN1YnQ6f99o"
      }
    },
    {
      "cell_type": "code",
      "source": [
        "# prompt: gabel, löffel, messer, teller, tasse\n",
        "\n",
        "def add_or_remove_fruit(fruits):\n",
        "    choice = input(\"Do you want to add or remove a fruit? \").lower()\n",
        "\n",
        "    if choice == \"add\":\n",
        "        fruit_to_add = input(\"Enter the name of the fruit to add: \")\n",
        "        fruits.append(fruit_to_add)\n",
        "        print(f\"Added '{fruit_to_add}' to the list.\")\n",
        "    elif choice == \"remove\":\n",
        "        if fruits:  # Check if the list is not empty\n",
        "          removed_fruit = fruits.pop()\n",
        "          print(f\"Removed '{removed_fruit}' from the list.\")\n",
        "        else:\n",
        "          print(\"The fruit list is empty. Cannot remove any fruit.\")\n",
        "    else:\n",
        "        print(\"Invalid choice.\")\n",
        "\n",
        "    print(\"Current fruit list:\", fruits)\n",
        "\n",
        "# Example usage (initialize an empty list)\n",
        "fruits = [\"Apple\", \"Banana\", \"Orange\"]\n",
        "add_or_remove_fruit(fruits)\n"
      ],
      "metadata": {
        "id": "e3_J3WDtf_vY"
      },
      "execution_count": null,
      "outputs": []
    },
    {
      "cell_type": "markdown",
      "source": [
        "**No empty first item**\n",
        "Write a function named no_empty_first_item that takes a list of strings as a parameter.\n",
        "The function should check if the first item in the list is an empty string. If it is, it will delete this item and return the updated list.\n",
        "Otherwise, it will return the list unchanged."
      ],
      "metadata": {
        "id": "nOTW0VPvgvV9"
      }
    },
    {
      "cell_type": "code",
      "source": [
        "#Your code\n",
        "def no_empty_first_item(liste):\n",
        "    if liste[0] == '':\n",
        "        del liste[0]\n",
        "    return liste\n",
        "\n",
        "print(no_empty_first_item(['','Hello','World']))\n",
        "print(no_empty_first_item(['Goodbye','World']))"
      ],
      "metadata": {
        "id": "l8ljGuPKg0No"
      },
      "execution_count": null,
      "outputs": []
    },
    {
      "cell_type": "markdown",
      "source": [
        "**Average Grade**\n",
        "Create a function called average that receives a list as an argument, and returns its average.\n",
        "You can assume that the list is not empty and contains only numbers.\n"
      ],
      "metadata": {
        "id": "Y9o_Nk3ZnfZF"
      }
    },
    {
      "cell_type": "code",
      "source": [
        "#Your code\n",
        "def my_average(numbers: list):\n",
        "    return sum(numbers) / len(numbers)\n",
        "\n",
        "numbers = [1,2,3,4,5]\n",
        "print(my_average(numbers))"
      ],
      "metadata": {
        "id": "Eg7YXjOKnfwM"
      },
      "execution_count": null,
      "outputs": []
    },
    {
      "cell_type": "markdown",
      "source": [
        "**Grade Range**\n",
        "In a certain school, the teacher wants to know the gap between the top and the lowest grade in an exam.\n",
        "Create a function called grade_range that accepts a list of ints as an argument, and returns the range, which is the difference between the maximum and minimum values in the list."
      ],
      "metadata": {
        "id": "bRfePygBnkYL"
      }
    },
    {
      "cell_type": "code",
      "source": [
        "#Your code\n",
        "def grade_range(grades:list):\n",
        "    return max(grades) - min(grades)\n",
        "\n",
        "print(grade_range([1,2,3,4,5,6]))"
      ],
      "metadata": {
        "id": "kQMrP4k0njxk"
      },
      "execution_count": null,
      "outputs": []
    },
    {
      "cell_type": "code",
      "source": [
        "#fix the below code and fill appropraite syntax inplace of '__'\n",
        "top_fruits = [\"apple\", \"banana\", \"cherry\", \"date\", \"elderberry\", \"fig\", \"grape\", \"honeydew\", \"kiwi\", \"lemon\"]\n",
        "\n",
        "print(f\"My list contains a total of  fruits: {len(top_fruits)}. \\nMy most loved fruit is: {top_fruits[0]}. \\nMy least loved fruit is: {top_fruits[-1]}\")"
      ],
      "metadata": {
        "id": "wcLF8ZsApPgD"
      },
      "execution_count": null,
      "outputs": []
    },
    {
      "cell_type": "markdown",
      "source": [
        "### is IN or is not IN list\n",
        "Great way to check if an item (string, integer, bool, etc.) is within a list. Returns TRUE or FALSE.\n",
        "\n",
        "Syntax: argument in list"
      ],
      "metadata": {
        "id": "vYj1XpPXifYh"
      }
    },
    {
      "cell_type": "code",
      "source": [
        "liste = ['Apfel','Banane','Birne']\n",
        "print('Apfel' in liste)\n",
        "print('Apfel' not in liste)"
      ],
      "metadata": {
        "id": "6Xf4M-JYiewv"
      },
      "execution_count": null,
      "outputs": []
    },
    {
      "cell_type": "markdown",
      "source": [
        "## Loops"
      ],
      "metadata": {
        "id": "PgIZVW5TVQIm"
      }
    },
    {
      "cell_type": "markdown",
      "source": [
        "Loops help to do repeated work of the same. **Different kind** of loops:\n",
        "\n",
        "---\n",
        "1.   **for**: needs an iterable to loop through, like lists, range-objects etc.\n",
        "```\n",
        "for i in [1,2,4,5,7,10]:\n",
        "    print(i)\n",
        ">>> 1,2,4,5,7,10\n",
        "```\n",
        "Use the **range object** to create a list to loop over.\n",
        "`range(start, stop, step)`. Range(6) will simply start at 0 and end at 5, doing a repeat of 6 times. You can also work backwords with step = -1. Step 2 will jump 🤹\n",
        "\n",
        "     Note:\n",
        "     * You can use any iterable you want. `for i in ['hallo',35,true]` as well.\n",
        "     * You can change a range object into a list `[range(6)]`\n",
        "\n",
        "\n",
        "\n",
        "\n",
        "---\n",
        "2.   **while**: iterates itself while condition is true\n",
        "```\n",
        "i = 0\n",
        "while i < 10:\n",
        "  do something\n",
        "  i += 1\n",
        "```\n",
        "\n",
        "\n",
        "---\n",
        "\n",
        "\n",
        "**Methods** for modifying the loops\n",
        "break\n",
        "restart\n"
      ],
      "metadata": {
        "id": "TRUCVZ8eVVmA"
      }
    },
    {
      "cell_type": "markdown",
      "source": [
        "### Excercises on for loops"
      ],
      "metadata": {
        "id": "aawIxPWlVSBK"
      }
    },
    {
      "cell_type": "markdown",
      "source": [
        "**Power of 2 calculator**\n",
        "Hint: First, write a function that runs the desired process once, and only then add the loop to it.\n",
        "Inside the function, you should get an int as input from the user, and then print the square of that number.\n",
        "Write a function print_square_numbers that will run a square number calculator that works exactly five times."
      ],
      "metadata": {
        "id": "wQO831fmYsjg"
      }
    },
    {
      "cell_type": "code",
      "source": [],
      "metadata": {
        "id": "sbU_6j1Ukv3M"
      },
      "execution_count": null,
      "outputs": []
    },
    {
      "cell_type": "markdown",
      "source": [
        "**Square numbers**\n",
        "Write a program that iterates through the number 1-7, and prints to the screen the square of each number."
      ],
      "metadata": {
        "id": "UqX-8oVKck1r"
      }
    },
    {
      "cell_type": "code",
      "source": [],
      "metadata": {
        "id": "Ih_RY5mqdzr-"
      },
      "execution_count": null,
      "outputs": []
    },
    {
      "cell_type": "markdown",
      "source": [
        "**Stars**\n",
        "Create a program that produces the following star pattern using for loops:\n",
        "```\n",
        "*\n",
        "**\n",
        "***\n",
        "****\n",
        "*****\n",
        "```\n",
        "\n"
      ],
      "metadata": {
        "id": "tFS5EFA8d0EC"
      }
    },
    {
      "cell_type": "code",
      "source": [],
      "metadata": {
        "id": "ynCq55TPd4sV"
      },
      "execution_count": null,
      "outputs": []
    },
    {
      "cell_type": "markdown",
      "source": [
        "**Multiplication Table**\n",
        "Write a function called multi_table that prints a multiplication table of a given number.\n",
        "The function will accept one int parameter num and will then print the first 6 multiplications of that number.\n",
        "```\n",
        "For example:\n",
        "3\n",
        "6\n",
        "9\n",
        "12\n",
        "15\n",
        "18\n",
        "```\n"
      ],
      "metadata": {
        "id": "LqGld8LNd5PF"
      }
    },
    {
      "cell_type": "code",
      "source": [],
      "metadata": {
        "id": "fpBVguFWeoi0"
      },
      "execution_count": null,
      "outputs": []
    },
    {
      "cell_type": "markdown",
      "source": [
        "**Shopping List**\n",
        "groceries is a list of groceries that were bought in the supermarket.\n",
        "Iterate through it using a for loop, and print “I bought <name>!” for each one, in a new line. Remember to choose a good name for your loop variable.\n",
        "\n",
        "groceries = [\"Milk\", \"Eggs\", \"Bread\", \"Apples\", \"Carrots\", \"Chicken\", \"Rice\"]\n",
        "\n"
      ],
      "metadata": {
        "id": "UpAfVb4ffY4a"
      }
    },
    {
      "cell_type": "code",
      "source": [],
      "metadata": {
        "id": "pVudiVq2fe3N"
      },
      "execution_count": null,
      "outputs": []
    },
    {
      "cell_type": "markdown",
      "source": [
        "**Only “A” Words**\n",
        "words is a list of words that you have to filter.\n",
        "Iterate through it, and print only the words that begin with the letter \"A\" in a new line.\n"
      ],
      "metadata": {
        "id": "XyAWu0E0f1qg"
      }
    },
    {
      "cell_type": "code",
      "source": [
        "words = ['Apple', 'Banana', 'Avocado', 'Apricot', 'Artichoke', 'Almond', 'Broccoli', 'Asparagus', 'Aloe', 'Anise']\n",
        "\n",
        "# your code here"
      ],
      "metadata": {
        "id": "ZBXMru-hf429"
      },
      "execution_count": null,
      "outputs": []
    },
    {
      "cell_type": "code",
      "source": [],
      "metadata": {
        "id": "oFObF3qUgO4f"
      },
      "execution_count": null,
      "outputs": []
    },
    {
      "cell_type": "markdown",
      "source": [
        "**Count Function**\n",
        "Write a function called count_to_n, that takes an argument n (int).\n",
        "The function will print the numbers from 0 up to but not including n using a for loop and the range function."
      ],
      "metadata": {
        "id": "4rNtjHN8hE4d"
      }
    },
    {
      "cell_type": "code",
      "source": [],
      "metadata": {
        "id": "M-XruxhshHdv"
      },
      "execution_count": null,
      "outputs": []
    },
    {
      "cell_type": "markdown",
      "source": [
        "**Emphasize the tens**\n",
        "Write a program that will print all the numbers between 0 and 100.\n",
        "For numbers that are divisible by 10 (such as 10, 20, 30...), print an asterisk (*) after the number."
      ],
      "metadata": {
        "id": "TOYzLVHZhn-n"
      }
    },
    {
      "cell_type": "code",
      "source": [
        "#Your code here\n",
        "for number in range(101):\n",
        "    if number % 10 == 0:\n",
        "        print(number, '*')\n",
        "    else:\n",
        "        print(number)"
      ],
      "metadata": {
        "id": "_UM7F3Pmhnq-"
      },
      "execution_count": null,
      "outputs": []
    },
    {
      "cell_type": "markdown",
      "source": [
        "**Even Range**\n",
        "Write a function called even_range, that takes two integers n and m (int).\n",
        "The function will print all the even numbers between n and m."
      ],
      "metadata": {
        "id": "N_ELEdT0hu6n"
      }
    },
    {
      "cell_type": "code",
      "source": [
        "#Your code here\n",
        "def even_range(n, m):\n",
        "    if n % 2 == 0:\n",
        "        pass\n",
        "    else:\n",
        "        n += 1\n",
        "    for number in range(n,m,2):\n",
        "        print(number)"
      ],
      "metadata": {
        "id": "tWCLy3IrhwRB"
      },
      "execution_count": null,
      "outputs": []
    },
    {
      "cell_type": "markdown",
      "source": [
        "**No Special Chars**\n",
        "Write a function print_non_special that takes a string as input and prints all the letters that are not one of “!”, “?” or “#”."
      ],
      "metadata": {
        "id": "7ykkfV7pijdD"
      }
    },
    {
      "cell_type": "code",
      "source": [
        "#Your code here\n",
        "def print_non_special(text):\n",
        "    for char in text:\n",
        "        if char not in ['!', '?', '#']:\n",
        "            print(char)"
      ],
      "metadata": {
        "id": "BLgPZv6Zicxv"
      },
      "execution_count": null,
      "outputs": []
    },
    {
      "cell_type": "markdown",
      "source": [
        "**Words Lengths**\n",
        "Write a function word_lengths that receives a list of strings.\n",
        " The function will print each string along with its length. For instance, for the string \"Alice\", the function should print \"Alice has 5 characters\"."
      ],
      "metadata": {
        "id": "EJ-ZHnzNi9YE"
      }
    },
    {
      "cell_type": "code",
      "source": [
        "#Your code here\n",
        "def word_lengths(list=None):\n",
        "    if list==None: return 'Input a list'\n",
        "    for name in list:\n",
        "        print(f'{name} has {len(name)} characters')\n",
        "\n",
        "names = ['Alice','Thor','Malu']\n",
        "word_lengths(names)"
      ],
      "metadata": {
        "id": "Ly54CmoajBd-"
      },
      "execution_count": null,
      "outputs": []
    },
    {
      "cell_type": "markdown",
      "source": [
        "**Floats to Percentages**\n",
        "Write a function to_percent that transforms a given list of float values, ranging between 0 and 1, into percentages. (0 = 0, 0.5 = 50, 1 = 100)\n",
        "Inside the function, create a new list.\n",
        "Use a for loop to iterate through the given list of floats, and for each one, append its percent value to the new list.\n",
        "The function will return the new list.\n"
      ],
      "metadata": {
        "id": "FmROi1U9jm-3"
      }
    },
    {
      "cell_type": "code",
      "source": [
        "#Your code here\n",
        "def to_percent(zahlen):\n",
        "    new_zahlen = []\n",
        "    for zahl in zahlen:\n",
        "        new_zahlen.append(int(zahl*100))\n",
        "    return new_zahlen\n",
        "\n",
        "print(to_percent([0.5,0.25,0.1]))"
      ],
      "metadata": {
        "id": "lndUjA-sjpSo"
      },
      "execution_count": null,
      "outputs": []
    },
    {
      "cell_type": "markdown",
      "source": [
        "**Add Suffix**\n",
        "Write a function add_suffix that takes a given list of strings and a suffix string as arguments.\n",
        "The function will return a new list containing the all the strings with the suffix added.\n",
        "For example:\n",
        "> add_suffix([”yahoo”, “google”], “.com”) >>>\n",
        "[”yahoo.com, “google.com”]"
      ],
      "metadata": {
        "id": "PQ4QKWpeks_O"
      }
    },
    {
      "cell_type": "code",
      "source": [],
      "metadata": {
        "id": "-3C-VanJmYNz"
      },
      "execution_count": null,
      "outputs": []
    },
    {
      "cell_type": "markdown",
      "source": [
        "**Negative Looping**\n",
        "Write a\n",
        "1. while loop that prints the numbers 10 to 1 to the screen. Starting from 10, then 9…\n",
        "2. for loop which does the same"
      ],
      "metadata": {
        "id": "XG84j3ixmOwE"
      }
    },
    {
      "cell_type": "code",
      "source": [
        "# while loop\n",
        "i = 10\n",
        "while i >= 1:\n",
        "    print(i)\n",
        "    i -= 1"
      ],
      "metadata": {
        "id": "F0161LFmmrsP"
      },
      "execution_count": null,
      "outputs": []
    },
    {
      "cell_type": "code",
      "source": [
        "#for loop\n",
        "for i in range(10,0,-1):\n",
        "    print(i)"
      ],
      "metadata": {
        "id": "vLNNTNlfmTyk"
      },
      "execution_count": null,
      "outputs": []
    },
    {
      "cell_type": "markdown",
      "source": [
        "### Infinite loop, listener loop"
      ],
      "metadata": {
        "id": "FmQOio4inDbT"
      }
    },
    {
      "cell_type": "markdown",
      "source": [
        "Many real world cases are not pre-defined in lenth.\n",
        "If you are selling tickets to an event, you don’t know in advance how many\n",
        "\n",
        "*   **Ticket sales**: sell as long as people are buying + space left\n",
        "*   **Loading plane**: they don’t know in advance how many suitcases there are. They just keep unloading while there are bags left in the cargo hold. (Why your suitcase is always the last one is an entirely different problem.)\n",
        "*  **Cashiers**: When you go through the checkout line at the grocery, the clerks don’t know in advance how many items there are. They just keep ringing up items as long as there are more on the conveyor belt.\n",
        "When you let a user choose a password, you have to check that it’s difficult enough. You don’t know how many times the user will try to come up with a password until he types a good one."
      ],
      "metadata": {
        "id": "ZKxBPTcunQNz"
      }
    },
    {
      "cell_type": "markdown",
      "source": [
        "**The Basic Structure of a Listener Loop**\n",
        "\n",
        "Outside the while loop, we will initialize the input variable.\n",
        "We’ll create a while loop with the condition that, when met, will stop the loop.\n",
        "Inside the while loop, there is a function call to get user input.\n",
        ""
      ],
      "metadata": {
        "id": "LSps4mKonqAm"
      }
    },
    {
      "cell_type": "code",
      "source": [
        "#Try Run\n",
        "num = 0\n",
        "while num != 100:\n",
        "    num = int(input(\"Please enter a number: \"))\n",
        "    print(\"Checking your number...\")\n",
        "\n",
        "print(\"Finally! you've entered 100!\")"
      ],
      "metadata": {
        "id": "0jYj7OprnzdT"
      },
      "execution_count": null,
      "outputs": []
    },
    {
      "cell_type": "markdown",
      "source": [
        "**Validating Input**\n",
        "\n",
        "When we talked about the Listener pattern, we’ve mentioned the case where you want a user to choose a password, and you have to validate that it’s hard enough. You don’t know how many times the user will try to come up with a password until he types a good one.\n",
        "\n",
        "This is called input validation; You can use it when you want to make sure the user has entered valid input for a prompt.\n",
        "Let’s say you want a program that asks a yes-or-no question. In this case, you want to make sure that the person using your program enters either a Y for yes or N for no (in upper case only). Here is a program that uses a while loop to keep asking until it receives a valid answer.\n",
        "When you run the following code, try typing something other than Y or N to see how the code reacts:"
      ],
      "metadata": {
        "id": "Rj4ms2YgoKnO"
      }
    },
    {
      "cell_type": "code",
      "source": [
        "answer = \"\"\n",
        "\n",
        "while answer != 'Y' and answer != 'N':\n",
        "    answer = input('Do you like lima beans? (Y)es or (N)o: ')\n",
        "\n",
        "print(\"Thanks for answering\", answer)"
      ],
      "metadata": {
        "id": "VEgLyLGcoPqN"
      },
      "execution_count": null,
      "outputs": []
    },
    {
      "cell_type": "markdown",
      "source": [
        "### Break & Continue"
      ],
      "metadata": {
        "id": "6mEM85utoqkW"
      }
    },
    {
      "cell_type": "markdown",
      "source": [
        "Python provides ways for us to control the flow of iterations with two keywords `break` and `continue`.\n",
        "\n",
        "```\n",
        "while condition:\n",
        "  #code\n",
        "  if (condition):\n",
        "    **break**\n",
        "  # code\n",
        "  # code\n",
        "  if (condition):\n",
        "    **continue**\n",
        "  # code\n",
        "```\n",
        "`Break will exit` the while-loop. `Continue will re-start` from beginning."
      ],
      "metadata": {
        "id": "r4UvyTdYotwy"
      }
    },
    {
      "cell_type": "markdown",
      "source": [
        "### Excercises on while loops"
      ],
      "metadata": {
        "id": "8rJqykmTlJpn"
      }
    },
    {
      "cell_type": "markdown",
      "source": [
        "Example with **continue**"
      ],
      "metadata": {
        "id": "dI6sco69p0IE"
      }
    },
    {
      "cell_type": "code",
      "source": [
        "number = 0\n",
        "while number < 10:\n",
        "    number += 1\n",
        "    # if 3 is encountered, skip to the next iteration and do not print 3.\n",
        "    if number == 3:\n",
        "        continue\n",
        "    print(number)"
      ],
      "metadata": {
        "id": "f0apLe_UpzHt"
      },
      "execution_count": null,
      "outputs": []
    },
    {
      "cell_type": "markdown",
      "source": [
        "**Continue** work **in for loops** too"
      ],
      "metadata": {
        "id": "P4YpX_IWlM0W"
      }
    },
    {
      "cell_type": "code",
      "source": [
        "domains = [\"cnn.com\", \"website.net\", \"whatismyip.com\", \"example.net\"]\n",
        "\n",
        "print(\"Printing only .com domains\")\n",
        "for domain in domains:\n",
        "    if domain.endswith(\".net\"):\n",
        "        print(\"Skipping\")\n",
        "        continue\n",
        "    print(f\"Domain: {domain}\")"
      ],
      "metadata": {
        "id": "_dZYGXI-qCVs"
      },
      "execution_count": null,
      "outputs": []
    },
    {
      "cell_type": "markdown",
      "source": [
        "**Counter skipping certain numbers**\n",
        "Create a while loop that has a counter from 1 to 20 (inclusive).\n",
        "If the value of the counter is divisible by 5, just skip it using continue.\n",
        "For the rest of the numbers, print the number. Each number should appear in a new line."
      ],
      "metadata": {
        "id": "9I3jSS7FqMIE"
      }
    },
    {
      "cell_type": "code",
      "source": [
        "#Your code here\n",
        "count = 0\n",
        "while count < 20:\n",
        "    count += 1\n",
        "    if count % 5 == 0:\n",
        "        continue\n",
        "    print(count)"
      ],
      "metadata": {
        "id": "WNc1FCLAqV8e"
      },
      "execution_count": null,
      "outputs": []
    },
    {
      "cell_type": "markdown",
      "source": [
        "**Customer ages**\n",
        "You have a dataset of customer ages stored in a list called customer_ages.\n",
        "Write a while loop that iterates through the customer_ages list and prints each age.\n",
        "However, if it encounters an age of 0 (representing missing data), the loop should stop and print: \"Missing data found!\""
      ],
      "metadata": {
        "id": "eqGFzaFoq2T4"
      }
    },
    {
      "cell_type": "code",
      "source": [
        "customer_ages = [25, 30, 0, 42, 18, 0, 65]\n",
        "#Your code here\n",
        "for age in customer_ages:\n",
        "    if age == 0:\n",
        "        print('Missing data found')\n",
        "        break\n",
        "    else:\n",
        "        print(age)"
      ],
      "metadata": {
        "id": "BOCyfyF7q6FM"
      },
      "execution_count": null,
      "outputs": []
    },
    {
      "cell_type": "markdown",
      "source": [
        "## Three different kind of functions:\n",
        "* built-in, like len(string)\n",
        "* user *def*ined\n",
        "* *lambda* functions: short form of cuntions for simply expressions, short tasks"
      ],
      "metadata": {
        "id": "Ue43K7StTNuC"
      }
    },
    {
      "cell_type": "markdown",
      "source": [
        "* parameter: variables listed in the function definition\n",
        "* arguments: actual value passed to the function\n",
        "\n",
        "def power(parameter1, parameter2 = default)\n",
        "\n",
        "power(argument1, argument2)\n",
        "power(1,4). 1 + 4 are the arguments\n",
        "\n",
        "Default parameters need to be listed behind non-default parameters.\n",
        "You can also define the variable type in the function definition. Will throw an error.\n",
        "You can also define which var type the return value is going to be.\n",
        "\n",
        "def power(a:int, b:int):-->int\n",
        "\n",
        "A function should only do some calculations and return something. This is called a *fruitful* function. If a function also does something the user sees then name it respectively. def power_print(a,b)."
      ],
      "metadata": {
        "id": "X_gezJi2h3Tt"
      }
    },
    {
      "cell_type": "code",
      "source": [
        "# user defined functions require def function (parameters)\n",
        "\n",
        "def own_function(parameter1, parameter2 = 'defaultvalue'):\n",
        "  # my code here. compare parameter1 and two return true or false\n",
        "  return parameter1 == parameter2"
      ],
      "metadata": {
        "id": "DCq6LFVATYT1"
      },
      "execution_count": null,
      "outputs": []
    },
    {
      "cell_type": "code",
      "source": [
        "# lambda functions\n",
        "# SYNTAX: function_name = lambda input-arguments : expression\n",
        "\n",
        "grossschreiben lambda input_text: input_text.upper()\n",
        "\n",
        "# man kann auch mehrere argumente in lambda übergeben\n",
        "\n",
        "multiplizieren lambda a,b: a * b"
      ],
      "metadata": {
        "id": "CENbblCJTMel"
      },
      "execution_count": null,
      "outputs": []
    },
    {
      "cell_type": "markdown",
      "source": [
        "**Lambda** functions can be combined for quick operations with:\n",
        "* map(): applies a lambda function on every item of the list\n",
        "* filter(): filters list by use of a condition within a lambda function. if condition is true for list item, it will be kept\n",
        "* sorted(): sorts list items by use of function"
      ],
      "metadata": {
        "id": "CpDpSsyrUjhL"
      }
    },
    {
      "cell_type": "code",
      "source": [
        "names = ['alice','bob','charlie']\n",
        "sorted_names = sorted(names, key = lambda x: len(x))\n",
        "print(sorted_names)\n",
        "\n",
        "filtered_names = filter(lambda x: len(x) > 4, names)\n",
        "print(list(filtered_names))\n",
        "\n",
        "mapped_names = map(lambda x: x.upper(), names)\n",
        "print(list(mapped_names))\n"
      ],
      "metadata": {
        "id": "GXcKXVt3Upxq"
      },
      "execution_count": null,
      "outputs": []
    },
    {
      "cell_type": "markdown",
      "source": [
        "### Scope of variables\n",
        "Variable can have different scopes.\n",
        "* **built-in**: defined and managed by python\n",
        "* **global**: defined by main program. can be assessed also from within functions. But only be changed from within a function with keyword *global*\n",
        "* **local**: all variables which are defined within functions are only accessible and changable within the functions or readable within the sub-functions called from the function"
      ],
      "metadata": {
        "id": "mWfCPSmPkG59"
      }
    }
  ]
}